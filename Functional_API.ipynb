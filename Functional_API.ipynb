{
  "nbformat": 4,
  "nbformat_minor": 0,
  "metadata": {
    "colab": {
      "name": "Functional API Project.ipynb",
      "provenance": [],
      "collapsed_sections": [],
      "authorship_tag": "ABX9TyO0r88u3C7yNs7TlHnUsHP1",
      "include_colab_link": true
    },
    "kernelspec": {
      "name": "python3",
      "display_name": "Python 3"
    },
    "language_info": {
      "name": "python"
    },
    "accelerator": "GPU"
  },
  "cells": [
    {
      "cell_type": "markdown",
      "metadata": {
        "id": "view-in-github",
        "colab_type": "text"
      },
      "source": [
        "<a href=\"https://colab.research.google.com/github/damsoumya/Basic_ML/blob/main/Functional_API.ipynb\" target=\"_parent\"><img src=\"https://colab.research.google.com/assets/colab-badge.svg\" alt=\"Open In Colab\"/></a>"
      ]
    },
    {
      "cell_type": "code",
      "metadata": {
        "id": "6SDaXNr1dfYC"
      },
      "source": [
        "import os\n",
        "os.environ['TF_CPP_MIN_LOG_LEVEL'] = '2'\n",
        "\n",
        "import tensorflow as tf\n",
        "from tensorflow import keras\n",
        "import numpy as np"
      ],
      "execution_count": null,
      "outputs": []
    },
    {
      "cell_type": "code",
      "metadata": {
        "id": "HdeHyQzgjQBH"
      },
      "source": [
        "inputs = keras.Input(shape=(28,28))\n",
        "flatten = keras.layers.Flatten()\n",
        "dense1 = keras.layers.Dense(128, activation='relu')\n",
        "\n",
        "dense2 = keras.layers.Dense(10, activation='softmax', name=\"category_output\")\n",
        "dense3 = keras.layers.Dense(1, activation='sigmoid', name=\"leftright_output\")"
      ],
      "execution_count": null,
      "outputs": []
    },
    {
      "cell_type": "code",
      "metadata": {
        "id": "AgpME5jSjQD-"
      },
      "source": [
        "x = flatten(inputs)\n",
        "x = dense1(x)\n",
        "outputs1 = dense2(x)\n",
        "outputs2 = dense3(x)\n",
        "\n",
        "model = keras.Model(inputs=inputs, outputs=[outputs1, outputs2], name=\"mnist_model\")"
      ],
      "execution_count": null,
      "outputs": []
    },
    {
      "cell_type": "code",
      "metadata": {
        "colab": {
          "base_uri": "https://localhost:8080/"
        },
        "id": "03iU_sSZjQG4",
        "outputId": "e71bd682-4c59-49ef-bca6-3ee291b83f11"
      },
      "source": [
        "model.summary()"
      ],
      "execution_count": null,
      "outputs": [
        {
          "output_type": "stream",
          "text": [
            "Model: \"mnist_model\"\n",
            "__________________________________________________________________________________________________\n",
            "Layer (type)                    Output Shape         Param #     Connected to                     \n",
            "==================================================================================================\n",
            "input_1 (InputLayer)            [(None, 28, 28)]     0                                            \n",
            "__________________________________________________________________________________________________\n",
            "flatten (Flatten)               (None, 784)          0           input_1[0][0]                    \n",
            "__________________________________________________________________________________________________\n",
            "dense (Dense)                   (None, 128)          100480      flatten[0][0]                    \n",
            "__________________________________________________________________________________________________\n",
            "category_output (Dense)         (None, 10)           1290        dense[0][0]                      \n",
            "__________________________________________________________________________________________________\n",
            "leftright_output (Dense)        (None, 1)            129         dense[0][0]                      \n",
            "==================================================================================================\n",
            "Total params: 101,899\n",
            "Trainable params: 101,899\n",
            "Non-trainable params: 0\n",
            "__________________________________________________________________________________________________\n"
          ],
          "name": "stdout"
        }
      ]
    },
    {
      "cell_type": "code",
      "metadata": {
        "id": "1cseF9FjjQJe"
      },
      "source": [
        "loss1 = keras.losses.SparseCategoricalCrossentropy(from_logits=False)\n",
        "loss2 = keras.losses.BinaryCrossentropy(from_logits=False)\n",
        "optim = keras.optimizers.Adam(lr=0.001)\n",
        "metrics = [\"accuracy\"]\n",
        "\n",
        "losses = {\n",
        "    \"category_output\": loss1,\n",
        "    \"leftright_output\": loss2,\n",
        "}\n",
        "\n",
        "model.compile(loss=losses, optimizer=optim, metrics=metrics)"
      ],
      "execution_count": null,
      "outputs": []
    },
    {
      "cell_type": "code",
      "metadata": {
        "colab": {
          "base_uri": "https://localhost:8080/"
        },
        "id": "zDaWUvsPjQMO",
        "outputId": "9cb556c2-22cc-43bf-d441-6ac483853066"
      },
      "source": [
        "mnist = keras.datasets.mnist\n",
        "(x_train, y_train), (x_test, y_test) = mnist.load_data()\n",
        "x_train, x_test = x_train / 255.0, x_test / 255.0\n",
        "\n",
        "# 0=left, 1=right\n",
        "y_leftright = np.zeros(y_train.shape, dtype=np.uint8)\n",
        "for idx, y in enumerate(y_train):\n",
        "    if y > 5:\n",
        "        y_leftright[idx] = 1\n",
        "\n",
        "print(y_train.dtype, y_train[0:20])\n",
        "print(y_leftright.dtype, y_leftright[0:20])\n",
        "\n",
        "y= {\"category_output\": y_train,\n",
        "    \"leftright_output\": y_leftright }"
      ],
      "execution_count": null,
      "outputs": [
        {
          "output_type": "stream",
          "text": [
            "Downloading data from https://storage.googleapis.com/tensorflow/tf-keras-datasets/mnist.npz\n",
            "11493376/11490434 [==============================] - 0s 0us/step\n",
            "uint8 [5 0 4 1 9 2 1 3 1 4 3 5 3 6 1 7 2 8 6 9]\n",
            "uint8 [0 0 0 0 1 0 0 0 0 0 0 0 0 1 0 1 0 1 1 1]\n"
          ],
          "name": "stdout"
        }
      ]
    },
    {
      "cell_type": "code",
      "metadata": {
        "colab": {
          "base_uri": "https://localhost:8080/"
        },
        "id": "bIfn-H4JjQO6",
        "outputId": "da87824b-8008-4d72-8c60-7d3c263ed167"
      },
      "source": [
        "model.fit(x_train, y=y, epochs=5,\n",
        "          batch_size=64, verbose=2)"
      ],
      "execution_count": null,
      "outputs": [
        {
          "output_type": "stream",
          "text": [
            "Epoch 1/5\n",
            "938/938 - 6s - loss: 0.4978 - category_output_loss: 0.3049 - leftright_output_loss: 0.1930 - category_output_accuracy: 0.9142 - leftright_output_accuracy: 0.9289\n",
            "Epoch 2/5\n",
            "938/938 - 3s - loss: 0.2363 - category_output_loss: 0.1408 - leftright_output_loss: 0.0955 - category_output_accuracy: 0.9591 - leftright_output_accuracy: 0.9673\n",
            "Epoch 3/5\n",
            "938/938 - 3s - loss: 0.1746 - category_output_loss: 0.0998 - leftright_output_loss: 0.0748 - category_output_accuracy: 0.9709 - leftright_output_accuracy: 0.9748\n",
            "Epoch 4/5\n",
            "938/938 - 3s - loss: 0.1392 - category_output_loss: 0.0772 - leftright_output_loss: 0.0620 - category_output_accuracy: 0.9771 - leftright_output_accuracy: 0.9793\n",
            "Epoch 5/5\n",
            "938/938 - 3s - loss: 0.1146 - category_output_loss: 0.0622 - leftright_output_loss: 0.0524 - category_output_accuracy: 0.9815 - leftright_output_accuracy: 0.9822\n"
          ],
          "name": "stdout"
        },
        {
          "output_type": "execute_result",
          "data": {
            "text/plain": [
              "<tensorflow.python.keras.callbacks.History at 0x7efe56bbdd10>"
            ]
          },
          "metadata": {
            "tags": []
          },
          "execution_count": 7
        }
      ]
    },
    {
      "cell_type": "code",
      "metadata": {
        "colab": {
          "base_uri": "https://localhost:8080/"
        },
        "id": "oIlo9x1RjQR-",
        "outputId": "dacd9c6b-b3ed-4260-db89-a5e78e296a2e"
      },
      "source": [
        "predictions = model.predict(x_test)\n",
        "len(predictions)"
      ],
      "execution_count": null,
      "outputs": [
        {
          "output_type": "execute_result",
          "data": {
            "text/plain": [
              "2"
            ]
          },
          "metadata": {
            "tags": []
          },
          "execution_count": 9
        }
      ]
    },
    {
      "cell_type": "code",
      "metadata": {
        "id": "stRtyypQjQUb"
      },
      "source": [
        "prediction_category = predictions[0]\n",
        "prediction_lr = predictions[1]\n",
        "\n",
        "pr_cat = prediction_category[0:20]\n",
        "prediction_lr = prediction_lr[0:20]\n",
        "\n",
        "labels_cat = np.argmax(pr_cat, axis=1)\n",
        "labels_lr = np.array([1 if p >= 0.5 else 0 for p in prediction_lr])"
      ],
      "execution_count": null,
      "outputs": []
    },
    {
      "cell_type": "code",
      "metadata": {
        "colab": {
          "base_uri": "https://localhost:8080/"
        },
        "id": "LRFgRP2JjQXO",
        "outputId": "bae70faf-0cf4-4298-8223-df4a420a576f"
      },
      "source": [
        "print(y_test[0:20])\n",
        "print(labels_cat)\n",
        "print(labels_lr)"
      ],
      "execution_count": null,
      "outputs": [
        {
          "output_type": "stream",
          "text": [
            "[7 2 1 0 4 1 4 9 5 9 0 6 9 0 1 5 9 7 3 4]\n",
            "[7 2 1 0 4 1 4 9 6 9 0 6 9 0 1 5 9 7 3 4]\n",
            "[1 0 0 0 0 0 0 1 1 1 0 1 1 0 0 0 1 1 0 0]\n"
          ],
          "name": "stdout"
        }
      ]
    },
    {
      "cell_type": "code",
      "metadata": {
        "id": "IL6TkmvajQZ9"
      },
      "source": [
        ""
      ],
      "execution_count": null,
      "outputs": []
    },
    {
      "cell_type": "code",
      "metadata": {
        "id": "Mfh6fbSzjQcx"
      },
      "source": [
        ""
      ],
      "execution_count": null,
      "outputs": []
    },
    {
      "cell_type": "code",
      "metadata": {
        "id": "wIWWvBm9jQfl"
      },
      "source": [
        ""
      ],
      "execution_count": null,
      "outputs": []
    },
    {
      "cell_type": "code",
      "metadata": {
        "id": "deH6LYEXjQia"
      },
      "source": [
        ""
      ],
      "execution_count": null,
      "outputs": []
    },
    {
      "cell_type": "code",
      "metadata": {
        "id": "vwUXlgbqjQlS"
      },
      "source": [
        ""
      ],
      "execution_count": null,
      "outputs": []
    },
    {
      "cell_type": "code",
      "metadata": {
        "id": "58OXE7ojjQpP"
      },
      "source": [
        ""
      ],
      "execution_count": null,
      "outputs": []
    },
    {
      "cell_type": "code",
      "metadata": {
        "id": "aIsxAc-_jQsm"
      },
      "source": [
        ""
      ],
      "execution_count": null,
      "outputs": []
    }
  ]
}