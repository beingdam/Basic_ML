{
  "nbformat": 4,
  "nbformat_minor": 0,
  "metadata": {
    "colab": {
      "name": "Regression_predictFuelEfficiency.ipynb",
      "provenance": [],
      "collapsed_sections": [],
      "authorship_tag": "ABX9TyNlRq8uIFlIvhNinCh77dRI",
      "include_colab_link": true
    },
    "kernelspec": {
      "name": "python3",
      "display_name": "Python 3"
    },
    "language_info": {
      "name": "python"
    },
    "accelerator": "GPU"
  },
  "cells": [
    {
      "cell_type": "markdown",
      "metadata": {
        "id": "view-in-github",
        "colab_type": "text"
      },
      "source": [
        "<a href=\"https://colab.research.google.com/github/damsoumya/Basic_ML/blob/main/Regression_Predict-Fuel-Efficiency.ipynb\" target=\"_parent\"><img src=\"https://colab.research.google.com/assets/colab-badge.svg\" alt=\"Open In Colab\"/></a>"
      ]
    },
    {
      "cell_type": "markdown",
      "metadata": {
        "id": "FOuDO-cncEwj"
      },
      "source": [
        "## Regression: Predict Fuel Efficiency\n",
        "\n",
        "##### This notebook uses the classic Auto MPG Dataset and builds a model to predict the fuel efficiency of late-1970s and early 1980s automobiles. To do this, provide the model with a description of many automobiles from that time period."
      ]
    },
    {
      "cell_type": "code",
      "metadata": {
        "id": "9PgrYcO9VX1b"
      },
      "source": [
        "import os\n",
        "os.environ['TF_CPP_MIN_LOG_LEVEL'] = '2'\n",
        "\n",
        "import matplotlib.pyplot as plt\n",
        "import numpy as np\n",
        "import pandas as pd\n",
        "np.set_printoptions(precision=3, suppress=True)"
      ],
      "execution_count": null,
      "outputs": []
    },
    {
      "cell_type": "code",
      "metadata": {
        "id": "OelDf_-SVtol"
      },
      "source": [
        "import tensorflow as tf\n",
        "\n",
        "from tensorflow import keras\n",
        "from tensorflow.keras import layers\n",
        "from tensorflow.keras.layers.experimental import preprocessing"
      ],
      "execution_count": null,
      "outputs": []
    },
    {
      "cell_type": "code",
      "metadata": {
        "id": "z7JDyVdpV2QQ"
      },
      "source": [
        "url = 'http://archive.ics.uci.edu/ml/machine-learning-databases/auto-mpg/auto-mpg.data'\n",
        "column_names = ['MPG', 'Cylinders', 'Displacement', 'Horsepower', 'Weight',\n",
        "                'Acceleration', 'Model Year', 'Origin']\n",
        "\n",
        "dataset = pd.read_csv(url, names=column_names, na_values='?',\n",
        "                      comment='\\t', sep=' ', skipinitialspace=True)"
      ],
      "execution_count": null,
      "outputs": []
    },
    {
      "cell_type": "code",
      "metadata": {
        "colab": {
          "base_uri": "https://localhost:8080/",
          "height": 195
        },
        "id": "eltSRe1iV2lF",
        "outputId": "3015ccff-3e05-4484-fc60-052261605009"
      },
      "source": [
        "dataset.tail()"
      ],
      "execution_count": null,
      "outputs": [
        {
          "output_type": "execute_result",
          "data": {
            "text/html": [
              "<div>\n",
              "<style scoped>\n",
              "    .dataframe tbody tr th:only-of-type {\n",
              "        vertical-align: middle;\n",
              "    }\n",
              "\n",
              "    .dataframe tbody tr th {\n",
              "        vertical-align: top;\n",
              "    }\n",
              "\n",
              "    .dataframe thead th {\n",
              "        text-align: right;\n",
              "    }\n",
              "</style>\n",
              "<table border=\"1\" class=\"dataframe\">\n",
              "  <thead>\n",
              "    <tr style=\"text-align: right;\">\n",
              "      <th></th>\n",
              "      <th>MPG</th>\n",
              "      <th>Cylinders</th>\n",
              "      <th>Displacement</th>\n",
              "      <th>Horsepower</th>\n",
              "      <th>Weight</th>\n",
              "      <th>Acceleration</th>\n",
              "      <th>Model Year</th>\n",
              "      <th>Origin</th>\n",
              "    </tr>\n",
              "  </thead>\n",
              "  <tbody>\n",
              "    <tr>\n",
              "      <th>393</th>\n",
              "      <td>27.0</td>\n",
              "      <td>4</td>\n",
              "      <td>140.0</td>\n",
              "      <td>86.0</td>\n",
              "      <td>2790.0</td>\n",
              "      <td>15.6</td>\n",
              "      <td>82</td>\n",
              "      <td>1</td>\n",
              "    </tr>\n",
              "    <tr>\n",
              "      <th>394</th>\n",
              "      <td>44.0</td>\n",
              "      <td>4</td>\n",
              "      <td>97.0</td>\n",
              "      <td>52.0</td>\n",
              "      <td>2130.0</td>\n",
              "      <td>24.6</td>\n",
              "      <td>82</td>\n",
              "      <td>2</td>\n",
              "    </tr>\n",
              "    <tr>\n",
              "      <th>395</th>\n",
              "      <td>32.0</td>\n",
              "      <td>4</td>\n",
              "      <td>135.0</td>\n",
              "      <td>84.0</td>\n",
              "      <td>2295.0</td>\n",
              "      <td>11.6</td>\n",
              "      <td>82</td>\n",
              "      <td>1</td>\n",
              "    </tr>\n",
              "    <tr>\n",
              "      <th>396</th>\n",
              "      <td>28.0</td>\n",
              "      <td>4</td>\n",
              "      <td>120.0</td>\n",
              "      <td>79.0</td>\n",
              "      <td>2625.0</td>\n",
              "      <td>18.6</td>\n",
              "      <td>82</td>\n",
              "      <td>1</td>\n",
              "    </tr>\n",
              "    <tr>\n",
              "      <th>397</th>\n",
              "      <td>31.0</td>\n",
              "      <td>4</td>\n",
              "      <td>119.0</td>\n",
              "      <td>82.0</td>\n",
              "      <td>2720.0</td>\n",
              "      <td>19.4</td>\n",
              "      <td>82</td>\n",
              "      <td>1</td>\n",
              "    </tr>\n",
              "  </tbody>\n",
              "</table>\n",
              "</div>"
            ],
            "text/plain": [
              "      MPG  Cylinders  Displacement  ...  Acceleration  Model Year  Origin\n",
              "393  27.0          4         140.0  ...          15.6          82       1\n",
              "394  44.0          4          97.0  ...          24.6          82       2\n",
              "395  32.0          4         135.0  ...          11.6          82       1\n",
              "396  28.0          4         120.0  ...          18.6          82       1\n",
              "397  31.0          4         119.0  ...          19.4          82       1\n",
              "\n",
              "[5 rows x 8 columns]"
            ]
          },
          "metadata": {
            "tags": []
          },
          "execution_count": 7
        }
      ]
    },
    {
      "cell_type": "code",
      "metadata": {
        "id": "Jy_7QsoGV2yN"
      },
      "source": [
        "dataset = dataset.dropna()\n",
        "origin = dataset.pop('Origin')\n",
        "dataset['USA'] = (origin == 1)*1\n",
        "dataset['Europe'] = (origin == 2)*1\n",
        "dataset['Japan'] = (origin == 3)*1"
      ],
      "execution_count": null,
      "outputs": []
    },
    {
      "cell_type": "code",
      "metadata": {
        "colab": {
          "base_uri": "https://localhost:8080/",
          "height": 195
        },
        "id": "A3EdaAd_V21m",
        "outputId": "691f2487-1ad2-4529-da23-56501e0beb50"
      },
      "source": [
        "dataset.tail()"
      ],
      "execution_count": null,
      "outputs": [
        {
          "output_type": "execute_result",
          "data": {
            "text/html": [
              "<div>\n",
              "<style scoped>\n",
              "    .dataframe tbody tr th:only-of-type {\n",
              "        vertical-align: middle;\n",
              "    }\n",
              "\n",
              "    .dataframe tbody tr th {\n",
              "        vertical-align: top;\n",
              "    }\n",
              "\n",
              "    .dataframe thead th {\n",
              "        text-align: right;\n",
              "    }\n",
              "</style>\n",
              "<table border=\"1\" class=\"dataframe\">\n",
              "  <thead>\n",
              "    <tr style=\"text-align: right;\">\n",
              "      <th></th>\n",
              "      <th>MPG</th>\n",
              "      <th>Cylinders</th>\n",
              "      <th>Displacement</th>\n",
              "      <th>Horsepower</th>\n",
              "      <th>Weight</th>\n",
              "      <th>Acceleration</th>\n",
              "      <th>Model Year</th>\n",
              "      <th>USA</th>\n",
              "      <th>Europe</th>\n",
              "      <th>Japan</th>\n",
              "    </tr>\n",
              "  </thead>\n",
              "  <tbody>\n",
              "    <tr>\n",
              "      <th>393</th>\n",
              "      <td>27.0</td>\n",
              "      <td>4</td>\n",
              "      <td>140.0</td>\n",
              "      <td>86.0</td>\n",
              "      <td>2790.0</td>\n",
              "      <td>15.6</td>\n",
              "      <td>82</td>\n",
              "      <td>1</td>\n",
              "      <td>0</td>\n",
              "      <td>0</td>\n",
              "    </tr>\n",
              "    <tr>\n",
              "      <th>394</th>\n",
              "      <td>44.0</td>\n",
              "      <td>4</td>\n",
              "      <td>97.0</td>\n",
              "      <td>52.0</td>\n",
              "      <td>2130.0</td>\n",
              "      <td>24.6</td>\n",
              "      <td>82</td>\n",
              "      <td>0</td>\n",
              "      <td>1</td>\n",
              "      <td>0</td>\n",
              "    </tr>\n",
              "    <tr>\n",
              "      <th>395</th>\n",
              "      <td>32.0</td>\n",
              "      <td>4</td>\n",
              "      <td>135.0</td>\n",
              "      <td>84.0</td>\n",
              "      <td>2295.0</td>\n",
              "      <td>11.6</td>\n",
              "      <td>82</td>\n",
              "      <td>1</td>\n",
              "      <td>0</td>\n",
              "      <td>0</td>\n",
              "    </tr>\n",
              "    <tr>\n",
              "      <th>396</th>\n",
              "      <td>28.0</td>\n",
              "      <td>4</td>\n",
              "      <td>120.0</td>\n",
              "      <td>79.0</td>\n",
              "      <td>2625.0</td>\n",
              "      <td>18.6</td>\n",
              "      <td>82</td>\n",
              "      <td>1</td>\n",
              "      <td>0</td>\n",
              "      <td>0</td>\n",
              "    </tr>\n",
              "    <tr>\n",
              "      <th>397</th>\n",
              "      <td>31.0</td>\n",
              "      <td>4</td>\n",
              "      <td>119.0</td>\n",
              "      <td>82.0</td>\n",
              "      <td>2720.0</td>\n",
              "      <td>19.4</td>\n",
              "      <td>82</td>\n",
              "      <td>1</td>\n",
              "      <td>0</td>\n",
              "      <td>0</td>\n",
              "    </tr>\n",
              "  </tbody>\n",
              "</table>\n",
              "</div>"
            ],
            "text/plain": [
              "      MPG  Cylinders  Displacement  Horsepower  ...  Model Year  USA  Europe  Japan\n",
              "393  27.0          4         140.0        86.0  ...          82    1       0      0\n",
              "394  44.0          4          97.0        52.0  ...          82    0       1      0\n",
              "395  32.0          4         135.0        84.0  ...          82    1       0      0\n",
              "396  28.0          4         120.0        79.0  ...          82    1       0      0\n",
              "397  31.0          4         119.0        82.0  ...          82    1       0      0\n",
              "\n",
              "[5 rows x 10 columns]"
            ]
          },
          "metadata": {
            "tags": []
          },
          "execution_count": 9
        }
      ]
    },
    {
      "cell_type": "code",
      "metadata": {
        "colab": {
          "base_uri": "https://localhost:8080/",
          "height": 360
        },
        "id": "b0funV5_V26c",
        "outputId": "55cacea2-c447-464c-95bb-49d21601a848"
      },
      "source": [
        "train_dataset = dataset.sample(frac=0.8, random_state=0)\n",
        "test_dataset = dataset.drop(train_dataset.index)\n",
        "\n",
        "print(dataset.shape, train_dataset.shape, test_dataset.shape)\n",
        "train_dataset.describe().transpose()"
      ],
      "execution_count": null,
      "outputs": [
        {
          "output_type": "stream",
          "text": [
            "(392, 10) (314, 10) (78, 10)\n"
          ],
          "name": "stdout"
        },
        {
          "output_type": "execute_result",
          "data": {
            "text/html": [
              "<div>\n",
              "<style scoped>\n",
              "    .dataframe tbody tr th:only-of-type {\n",
              "        vertical-align: middle;\n",
              "    }\n",
              "\n",
              "    .dataframe tbody tr th {\n",
              "        vertical-align: top;\n",
              "    }\n",
              "\n",
              "    .dataframe thead th {\n",
              "        text-align: right;\n",
              "    }\n",
              "</style>\n",
              "<table border=\"1\" class=\"dataframe\">\n",
              "  <thead>\n",
              "    <tr style=\"text-align: right;\">\n",
              "      <th></th>\n",
              "      <th>count</th>\n",
              "      <th>mean</th>\n",
              "      <th>std</th>\n",
              "      <th>min</th>\n",
              "      <th>25%</th>\n",
              "      <th>50%</th>\n",
              "      <th>75%</th>\n",
              "      <th>max</th>\n",
              "    </tr>\n",
              "  </thead>\n",
              "  <tbody>\n",
              "    <tr>\n",
              "      <th>MPG</th>\n",
              "      <td>314.0</td>\n",
              "      <td>23.310510</td>\n",
              "      <td>7.728652</td>\n",
              "      <td>10.0</td>\n",
              "      <td>17.00</td>\n",
              "      <td>22.0</td>\n",
              "      <td>28.95</td>\n",
              "      <td>46.6</td>\n",
              "    </tr>\n",
              "    <tr>\n",
              "      <th>Cylinders</th>\n",
              "      <td>314.0</td>\n",
              "      <td>5.477707</td>\n",
              "      <td>1.699788</td>\n",
              "      <td>3.0</td>\n",
              "      <td>4.00</td>\n",
              "      <td>4.0</td>\n",
              "      <td>8.00</td>\n",
              "      <td>8.0</td>\n",
              "    </tr>\n",
              "    <tr>\n",
              "      <th>Displacement</th>\n",
              "      <td>314.0</td>\n",
              "      <td>195.318471</td>\n",
              "      <td>104.331589</td>\n",
              "      <td>68.0</td>\n",
              "      <td>105.50</td>\n",
              "      <td>151.0</td>\n",
              "      <td>265.75</td>\n",
              "      <td>455.0</td>\n",
              "    </tr>\n",
              "    <tr>\n",
              "      <th>Horsepower</th>\n",
              "      <td>314.0</td>\n",
              "      <td>104.869427</td>\n",
              "      <td>38.096214</td>\n",
              "      <td>46.0</td>\n",
              "      <td>76.25</td>\n",
              "      <td>94.5</td>\n",
              "      <td>128.00</td>\n",
              "      <td>225.0</td>\n",
              "    </tr>\n",
              "    <tr>\n",
              "      <th>Weight</th>\n",
              "      <td>314.0</td>\n",
              "      <td>2990.251592</td>\n",
              "      <td>843.898596</td>\n",
              "      <td>1649.0</td>\n",
              "      <td>2256.50</td>\n",
              "      <td>2822.5</td>\n",
              "      <td>3608.00</td>\n",
              "      <td>5140.0</td>\n",
              "    </tr>\n",
              "    <tr>\n",
              "      <th>Acceleration</th>\n",
              "      <td>314.0</td>\n",
              "      <td>15.559236</td>\n",
              "      <td>2.789230</td>\n",
              "      <td>8.0</td>\n",
              "      <td>13.80</td>\n",
              "      <td>15.5</td>\n",
              "      <td>17.20</td>\n",
              "      <td>24.8</td>\n",
              "    </tr>\n",
              "    <tr>\n",
              "      <th>Model Year</th>\n",
              "      <td>314.0</td>\n",
              "      <td>75.898089</td>\n",
              "      <td>3.675642</td>\n",
              "      <td>70.0</td>\n",
              "      <td>73.00</td>\n",
              "      <td>76.0</td>\n",
              "      <td>79.00</td>\n",
              "      <td>82.0</td>\n",
              "    </tr>\n",
              "    <tr>\n",
              "      <th>USA</th>\n",
              "      <td>314.0</td>\n",
              "      <td>0.624204</td>\n",
              "      <td>0.485101</td>\n",
              "      <td>0.0</td>\n",
              "      <td>0.00</td>\n",
              "      <td>1.0</td>\n",
              "      <td>1.00</td>\n",
              "      <td>1.0</td>\n",
              "    </tr>\n",
              "    <tr>\n",
              "      <th>Europe</th>\n",
              "      <td>314.0</td>\n",
              "      <td>0.178344</td>\n",
              "      <td>0.383413</td>\n",
              "      <td>0.0</td>\n",
              "      <td>0.00</td>\n",
              "      <td>0.0</td>\n",
              "      <td>0.00</td>\n",
              "      <td>1.0</td>\n",
              "    </tr>\n",
              "    <tr>\n",
              "      <th>Japan</th>\n",
              "      <td>314.0</td>\n",
              "      <td>0.197452</td>\n",
              "      <td>0.398712</td>\n",
              "      <td>0.0</td>\n",
              "      <td>0.00</td>\n",
              "      <td>0.0</td>\n",
              "      <td>0.00</td>\n",
              "      <td>1.0</td>\n",
              "    </tr>\n",
              "  </tbody>\n",
              "</table>\n",
              "</div>"
            ],
            "text/plain": [
              "              count         mean         std  ...     50%      75%     max\n",
              "MPG           314.0    23.310510    7.728652  ...    22.0    28.95    46.6\n",
              "Cylinders     314.0     5.477707    1.699788  ...     4.0     8.00     8.0\n",
              "Displacement  314.0   195.318471  104.331589  ...   151.0   265.75   455.0\n",
              "Horsepower    314.0   104.869427   38.096214  ...    94.5   128.00   225.0\n",
              "Weight        314.0  2990.251592  843.898596  ...  2822.5  3608.00  5140.0\n",
              "Acceleration  314.0    15.559236    2.789230  ...    15.5    17.20    24.8\n",
              "Model Year    314.0    75.898089    3.675642  ...    76.0    79.00    82.0\n",
              "USA           314.0     0.624204    0.485101  ...     1.0     1.00     1.0\n",
              "Europe        314.0     0.178344    0.383413  ...     0.0     0.00     1.0\n",
              "Japan         314.0     0.197452    0.398712  ...     0.0     0.00     1.0\n",
              "\n",
              "[10 rows x 8 columns]"
            ]
          },
          "metadata": {
            "tags": []
          },
          "execution_count": 10
        }
      ]
    },
    {
      "cell_type": "code",
      "metadata": {
        "id": "yo6HjXUtV291"
      },
      "source": [
        "train_features = train_dataset.copy()\n",
        "test_features = test_dataset.copy()\n",
        "\n",
        "train_labels = train_features.pop('MPG')\n",
        "test_labels = test_features.pop('MPG')"
      ],
      "execution_count": null,
      "outputs": []
    },
    {
      "cell_type": "code",
      "metadata": {
        "id": "vEVQ6Wc3V3Gx"
      },
      "source": [
        "def plot(feature, x=None, y=None):\n",
        "    plt.figure(figsize=(10, 8))\n",
        "    plt.scatter(train_features[feature], train_labels, label='Data')\n",
        "    if x is not None and y is not None:\n",
        "        plt.plot(x, y, color='k', label='Predictions')\n",
        "    plt.xlabel(feature)\n",
        "    plt.ylabel('MPG')\n",
        "    plt.legend()"
      ],
      "execution_count": null,
      "outputs": []
    },
    {
      "cell_type": "code",
      "metadata": {
        "colab": {
          "base_uri": "https://localhost:8080/",
          "height": 497
        },
        "id": "yx2BssGXWSdE",
        "outputId": "fec0a762-99fd-4c3d-bafc-7ac0f6ac6cd4"
      },
      "source": [
        "plot('Horsepower')"
      ],
      "execution_count": null,
      "outputs": [
        {
          "output_type": "display_data",
          "data": {
            "image/png": "[encoded data removed]",
            "text/plain": [
              "<Figure size 720x576 with 1 Axes>"
            ]
          },
          "metadata": {
            "tags": [],
            "needs_background": "light"
          }
        }
      ]
    },
    {
      "cell_type": "code",
      "metadata": {
        "colab": {
          "base_uri": "https://localhost:8080/",
          "height": 497
        },
        "id": "V8X19jJmWSob",
        "outputId": "8cdf595c-410d-409a-e4ea-43e16f61e04b"
      },
      "source": [
        "plot('Weight')"
      ],
      "execution_count": null,
      "outputs": [
        {
          "output_type": "display_data",
          "data": {
            "image/png": "[encoded data removed]",
            "text/plain": [
              "<Figure size 720x576 with 1 Axes>"
            ]
          },
          "metadata": {
            "tags": [],
            "needs_background": "light"
          }
        }
      ]
    },
    {
      "cell_type": "code",
      "metadata": {
        "colab": {
          "base_uri": "https://localhost:8080/"
        },
        "id": "slnQECBGWSqy",
        "outputId": "e016694f-322c-4e7b-841d-85937443874a"
      },
      "source": [
        "print(train_dataset.describe().transpose()[['mean', 'std']])\n",
        "\n",
        "# Normalization\n",
        "normalizer = preprocessing.Normalization()\n",
        "\n",
        "# Adapt to data\n",
        "normalizer.adapt(np.array(train_features))\n",
        "print(normalizer.mean.numpy())"
      ],
      "execution_count": null,
      "outputs": [
        {
          "output_type": "stream",
          "text": [
            "                     mean         std\n",
            "MPG             23.310510    7.728652\n",
            "Cylinders        5.477707    1.699788\n",
            "Displacement   195.318471  104.331589\n",
            "Horsepower     104.869427   38.096214\n",
            "Weight        2990.251592  843.898596\n",
            "Acceleration    15.559236    2.789230\n",
            "Model Year      75.898089    3.675642\n",
            "USA              0.624204    0.485101\n",
            "Europe           0.178344    0.383413\n",
            "Japan            0.197452    0.398712\n",
            "[   5.478  195.318  104.869 2990.252   15.559   75.898    0.624    0.178\n",
            "    0.197]\n"
          ],
          "name": "stdout"
        }
      ]
    },
    {
      "cell_type": "code",
      "metadata": {
        "colab": {
          "base_uri": "https://localhost:8080/"
        },
        "id": "lXF0W5sWWStg",
        "outputId": "e8dee198-cfc4-4fc0-a254-effd12690026"
      },
      "source": [
        "first = np.array(train_features[:1])\n",
        "print('First example:', first)\n",
        "print('Normalized:', normalizer(first).numpy())"
      ],
      "execution_count": null,
      "outputs": [
        {
          "output_type": "stream",
          "text": [
            "First example: [[   4.    90.    75.  2125.    14.5   74.     1.     0.     0. ]]\n",
            "Normalized: [[-0.871 -1.011 -0.785 -1.027 -0.38  -0.517  0.776 -0.466 -0.496]]\n"
          ],
          "name": "stdout"
        }
      ]
    },
    {
      "cell_type": "code",
      "metadata": {
        "colab": {
          "base_uri": "https://localhost:8080/"
        },
        "id": "8Co8C_JqWSwJ",
        "outputId": "3200913a-40d2-4f54-a7a9-182c6952b295"
      },
      "source": [
        "feature = 'Horsepower'\n",
        "single_feature = np.array(train_features[feature])\n",
        "print(single_feature.shape, train_features.shape)\n",
        "\n",
        "# Normalization\n",
        "single_feature_normalizer = preprocessing.Normalization()\n",
        "\n",
        "# adapt to the data\n",
        "single_feature_normalizer.adapt(single_feature)"
      ],
      "execution_count": null,
      "outputs": [
        {
          "output_type": "stream",
          "text": [
            "(314,) (314, 9)\n"
          ],
          "name": "stdout"
        }
      ]
    },
    {
      "cell_type": "code",
      "metadata": {
        "id": "MAlj4iyfWSyq"
      },
      "source": [
        "single_feature_model = keras.models.Sequential([\n",
        "    single_feature_normalizer,\n",
        "    layers.Dense(units=1) # Linear Model\n",
        "])"
      ],
      "execution_count": null,
      "outputs": []
    },
    {
      "cell_type": "code",
      "metadata": {
        "colab": {
          "base_uri": "https://localhost:8080/"
        },
        "id": "GkBkOgqfWS1h",
        "outputId": "2591416c-7abb-4a35-cd48-200457001c7d"
      },
      "source": [
        "single_feature_model.summary()"
      ],
      "execution_count": null,
      "outputs": [
        {
          "output_type": "stream",
          "text": [
            "Model: \"sequential\"\n",
            "_________________________________________________________________\n",
            "Layer (type)                 Output Shape              Param #   \n",
            "=================================================================\n",
            "normalization_1 (Normalizati (None, 1)                 3         \n",
            "_________________________________________________________________\n",
            "dense (Dense)                (None, 1)                 2         \n",
            "=================================================================\n",
            "Total params: 5\n",
            "Trainable params: 2\n",
            "Non-trainable params: 3\n",
            "_________________________________________________________________\n"
          ],
          "name": "stdout"
        }
      ]
    },
    {
      "cell_type": "code",
      "metadata": {
        "id": "JvPIfSHqWS5F"
      },
      "source": [
        "loss = keras.losses.MeanAbsoluteError() # MeanSquaredError\n",
        "optim = keras.optimizers.Adam(lr=0.1)\n",
        "\n",
        "single_feature_model.compile(optimizer=optim, loss=loss)"
      ],
      "execution_count": null,
      "outputs": []
    },
    {
      "cell_type": "code",
      "metadata": {
        "colab": {
          "base_uri": "https://localhost:8080/"
        },
        "id": "N2rDenicW3F0",
        "outputId": "b8a56b34-9ab0-4168-9d96-a553d13dcded"
      },
      "source": [
        "history = single_feature_model.fit(\n",
        "    train_features[feature], train_labels,\n",
        "    epochs=100,\n",
        "    verbose=1,\n",
        "    # Calculate validation results on 20% of the training data\n",
        "    validation_split = 0.2)"
      ],
      "execution_count": null,
      "outputs": [
        {
          "output_type": "stream",
          "text": [
            "Epoch 1/100\n",
            "8/8 [==============================] - 3s 30ms/step - loss: 22.7793 - val_loss: 22.9393\n",
            "Epoch 2/100\n",
            "8/8 [==============================] - 0s 8ms/step - loss: 21.8447 - val_loss: 22.1390\n",
            "Epoch 3/100\n",
            "8/8 [==============================] - 0s 7ms/step - loss: 21.8984 - val_loss: 21.3390\n",
            "Epoch 4/100\n",
            "8/8 [==============================] - 0s 7ms/step - loss: 20.6482 - val_loss: 20.5391\n",
            "Epoch 5/100\n",
            "8/8 [==============================] - 0s 8ms/step - loss: 19.7117 - val_loss: 19.7391\n",
            "Epoch 6/100\n",
            "8/8 [==============================] - 0s 7ms/step - loss: 19.8001 - val_loss: 18.9388\n",
            "Epoch 7/100\n",
            "8/8 [==============================] - 0s 7ms/step - loss: 17.8490 - val_loss: 18.1392\n",
            "Epoch 8/100\n",
            "8/8 [==============================] - 0s 7ms/step - loss: 17.3296 - val_loss: 17.3393\n",
            "Epoch 9/100\n",
            "8/8 [==============================] - 0s 8ms/step - loss: 16.9570 - val_loss: 16.5401\n",
            "Epoch 10/100\n",
            "8/8 [==============================] - 0s 8ms/step - loss: 15.3941 - val_loss: 15.7553\n",
            "Epoch 11/100\n",
            "8/8 [==============================] - 0s 7ms/step - loss: 15.1448 - val_loss: 14.9638\n",
            "Epoch 12/100\n",
            "8/8 [==============================] - 0s 9ms/step - loss: 14.0847 - val_loss: 14.1788\n",
            "Epoch 13/100\n",
            "8/8 [==============================] - 0s 7ms/step - loss: 13.9008 - val_loss: 13.3894\n",
            "Epoch 14/100\n",
            "8/8 [==============================] - 0s 7ms/step - loss: 12.9812 - val_loss: 12.6024\n",
            "Epoch 15/100\n",
            "8/8 [==============================] - 0s 7ms/step - loss: 12.0966 - val_loss: 11.8257\n",
            "Epoch 16/100\n",
            "8/8 [==============================] - 0s 7ms/step - loss: 11.5326 - val_loss: 11.0467\n",
            "Epoch 17/100\n",
            "8/8 [==============================] - 0s 7ms/step - loss: 10.5642 - val_loss: 10.2642\n",
            "Epoch 18/100\n",
            "8/8 [==============================] - 0s 7ms/step - loss: 9.5074 - val_loss: 9.4856\n",
            "Epoch 19/100\n",
            "8/8 [==============================] - 0s 8ms/step - loss: 8.8250 - val_loss: 8.7304\n",
            "Epoch 20/100\n",
            "8/8 [==============================] - 0s 7ms/step - loss: 8.7111 - val_loss: 7.9887\n",
            "Epoch 21/100\n",
            "8/8 [==============================] - 0s 7ms/step - loss: 7.5314 - val_loss: 7.2796\n",
            "Epoch 22/100\n",
            "8/8 [==============================] - 0s 7ms/step - loss: 6.7646 - val_loss: 6.6155\n",
            "Epoch 23/100\n",
            "8/8 [==============================] - 0s 7ms/step - loss: 6.2313 - val_loss: 6.0325\n",
            "Epoch 24/100\n",
            "8/8 [==============================] - 0s 6ms/step - loss: 5.8189 - val_loss: 5.5944\n",
            "Epoch 25/100\n",
            "8/8 [==============================] - 0s 7ms/step - loss: 5.1980 - val_loss: 5.2449\n",
            "Epoch 26/100\n",
            "8/8 [==============================] - 0s 7ms/step - loss: 4.9719 - val_loss: 5.0171\n",
            "Epoch 27/100\n",
            "8/8 [==============================] - 0s 7ms/step - loss: 4.4897 - val_loss: 4.8240\n",
            "Epoch 28/100\n",
            "8/8 [==============================] - 0s 7ms/step - loss: 4.1079 - val_loss: 4.6674\n",
            "Epoch 29/100\n",
            "8/8 [==============================] - 0s 8ms/step - loss: 3.9270 - val_loss: 4.5649\n",
            "Epoch 30/100\n",
            "8/8 [==============================] - 0s 8ms/step - loss: 4.0099 - val_loss: 4.4745\n",
            "Epoch 31/100\n",
            "8/8 [==============================] - 0s 7ms/step - loss: 4.4037 - val_loss: 4.3849\n",
            "Epoch 32/100\n",
            "8/8 [==============================] - 0s 7ms/step - loss: 4.1483 - val_loss: 4.3231\n",
            "Epoch 33/100\n",
            "8/8 [==============================] - 0s 9ms/step - loss: 3.7713 - val_loss: 4.2563\n",
            "Epoch 34/100\n",
            "8/8 [==============================] - 0s 8ms/step - loss: 3.7901 - val_loss: 4.2311\n",
            "Epoch 35/100\n",
            "8/8 [==============================] - 0s 7ms/step - loss: 3.7929 - val_loss: 4.2501\n",
            "Epoch 36/100\n",
            "8/8 [==============================] - 0s 7ms/step - loss: 3.8655 - val_loss: 4.2272\n",
            "Epoch 37/100\n",
            "8/8 [==============================] - 0s 6ms/step - loss: 3.6912 - val_loss: 4.2333\n",
            "Epoch 38/100\n",
            "8/8 [==============================] - 0s 7ms/step - loss: 3.6699 - val_loss: 4.2176\n",
            "Epoch 39/100\n",
            "8/8 [==============================] - 0s 6ms/step - loss: 3.7044 - val_loss: 4.1987\n",
            "Epoch 40/100\n",
            "8/8 [==============================] - 0s 7ms/step - loss: 3.9344 - val_loss: 4.1984\n",
            "Epoch 41/100\n",
            "8/8 [==============================] - 0s 7ms/step - loss: 3.8794 - val_loss: 4.2017\n",
            "Epoch 42/100\n",
            "8/8 [==============================] - 0s 7ms/step - loss: 3.8042 - val_loss: 4.1898\n",
            "Epoch 43/100\n",
            "8/8 [==============================] - 0s 7ms/step - loss: 3.7725 - val_loss: 4.1915\n",
            "Epoch 44/100\n",
            "8/8 [==============================] - 0s 7ms/step - loss: 3.6614 - val_loss: 4.1921\n",
            "Epoch 45/100\n",
            "8/8 [==============================] - 0s 7ms/step - loss: 3.7726 - val_loss: 4.2085\n",
            "Epoch 46/100\n",
            "8/8 [==============================] - 0s 7ms/step - loss: 3.6152 - val_loss: 4.1929\n",
            "Epoch 47/100\n",
            "8/8 [==============================] - 0s 8ms/step - loss: 4.0301 - val_loss: 4.1687\n",
            "Epoch 48/100\n",
            "8/8 [==============================] - 0s 7ms/step - loss: 3.9580 - val_loss: 4.1708\n",
            "Epoch 49/100\n",
            "8/8 [==============================] - 0s 7ms/step - loss: 3.4398 - val_loss: 4.1879\n",
            "Epoch 50/100\n",
            "8/8 [==============================] - 0s 7ms/step - loss: 3.7187 - val_loss: 4.2095\n",
            "Epoch 51/100\n",
            "8/8 [==============================] - 0s 7ms/step - loss: 3.8971 - val_loss: 4.1992\n",
            "Epoch 52/100\n",
            "8/8 [==============================] - 0s 7ms/step - loss: 3.8401 - val_loss: 4.1898\n",
            "Epoch 53/100\n",
            "8/8 [==============================] - 0s 9ms/step - loss: 3.4480 - val_loss: 4.1947\n",
            "Epoch 54/100\n",
            "8/8 [==============================] - 0s 7ms/step - loss: 3.8184 - val_loss: 4.2013\n",
            "Epoch 55/100\n",
            "8/8 [==============================] - 0s 8ms/step - loss: 3.9137 - val_loss: 4.2055\n",
            "Epoch 56/100\n",
            "8/8 [==============================] - 0s 8ms/step - loss: 3.8655 - val_loss: 4.1880\n",
            "Epoch 57/100\n",
            "8/8 [==============================] - 0s 7ms/step - loss: 3.7904 - val_loss: 4.1867\n",
            "Epoch 58/100\n",
            "8/8 [==============================] - 0s 7ms/step - loss: 4.1672 - val_loss: 4.1914\n",
            "Epoch 59/100\n",
            "8/8 [==============================] - 0s 7ms/step - loss: 3.6783 - val_loss: 4.2161\n",
            "Epoch 60/100\n",
            "8/8 [==============================] - 0s 8ms/step - loss: 3.7399 - val_loss: 4.2039\n",
            "Epoch 61/100\n",
            "8/8 [==============================] - 0s 8ms/step - loss: 3.5873 - val_loss: 4.1871\n",
            "Epoch 62/100\n",
            "8/8 [==============================] - 0s 8ms/step - loss: 3.7949 - val_loss: 4.1782\n",
            "Epoch 63/100\n",
            "8/8 [==============================] - 0s 9ms/step - loss: 3.7269 - val_loss: 4.1883\n",
            "Epoch 64/100\n",
            "8/8 [==============================] - 0s 7ms/step - loss: 3.8805 - val_loss: 4.1750\n",
            "Epoch 65/100\n",
            "8/8 [==============================] - 0s 8ms/step - loss: 3.8763 - val_loss: 4.2023\n",
            "Epoch 66/100\n",
            "8/8 [==============================] - 0s 7ms/step - loss: 3.8151 - val_loss: 4.1579\n",
            "Epoch 67/100\n",
            "8/8 [==============================] - 0s 7ms/step - loss: 3.8864 - val_loss: 4.1756\n",
            "Epoch 68/100\n",
            "8/8 [==============================] - 0s 8ms/step - loss: 3.7763 - val_loss: 4.2041\n",
            "Epoch 69/100\n",
            "8/8 [==============================] - 0s 8ms/step - loss: 3.8673 - val_loss: 4.1862\n",
            "Epoch 70/100\n",
            "8/8 [==============================] - 0s 7ms/step - loss: 3.8094 - val_loss: 4.1729\n",
            "Epoch 71/100\n",
            "8/8 [==============================] - 0s 7ms/step - loss: 4.0387 - val_loss: 4.1914\n",
            "Epoch 72/100\n",
            "8/8 [==============================] - 0s 6ms/step - loss: 3.8095 - val_loss: 4.2061\n",
            "Epoch 73/100\n",
            "8/8 [==============================] - 0s 7ms/step - loss: 3.7611 - val_loss: 4.2036\n",
            "Epoch 74/100\n",
            "8/8 [==============================] - 0s 8ms/step - loss: 3.9141 - val_loss: 4.1770\n",
            "Epoch 75/100\n",
            "8/8 [==============================] - 0s 8ms/step - loss: 3.7479 - val_loss: 4.1742\n",
            "Epoch 76/100\n",
            "8/8 [==============================] - 0s 7ms/step - loss: 3.8866 - val_loss: 4.1880\n",
            "Epoch 77/100\n",
            "8/8 [==============================] - 0s 7ms/step - loss: 3.6015 - val_loss: 4.2132\n",
            "Epoch 78/100\n",
            "8/8 [==============================] - 0s 7ms/step - loss: 3.8893 - val_loss: 4.1948\n",
            "Epoch 79/100\n",
            "8/8 [==============================] - 0s 6ms/step - loss: 3.7068 - val_loss: 4.1658\n",
            "Epoch 80/100\n",
            "8/8 [==============================] - 0s 7ms/step - loss: 3.7286 - val_loss: 4.1673\n",
            "Epoch 81/100\n",
            "8/8 [==============================] - 0s 7ms/step - loss: 3.7135 - val_loss: 4.2097\n",
            "Epoch 82/100\n",
            "8/8 [==============================] - 0s 7ms/step - loss: 3.7746 - val_loss: 4.1963\n",
            "Epoch 83/100\n",
            "8/8 [==============================] - 0s 7ms/step - loss: 3.8269 - val_loss: 4.1824\n",
            "Epoch 84/100\n",
            "8/8 [==============================] - 0s 7ms/step - loss: 3.7995 - val_loss: 4.2043\n",
            "Epoch 85/100\n",
            "8/8 [==============================] - 0s 7ms/step - loss: 3.7995 - val_loss: 4.1959\n",
            "Epoch 86/100\n",
            "8/8 [==============================] - 0s 7ms/step - loss: 3.8877 - val_loss: 4.1653\n",
            "Epoch 87/100\n",
            "8/8 [==============================] - 0s 7ms/step - loss: 3.6668 - val_loss: 4.1917\n",
            "Epoch 88/100\n",
            "8/8 [==============================] - 0s 7ms/step - loss: 4.1320 - val_loss: 4.1960\n",
            "Epoch 89/100\n",
            "8/8 [==============================] - 0s 7ms/step - loss: 3.7238 - val_loss: 4.1915\n",
            "Epoch 90/100\n",
            "8/8 [==============================] - 0s 8ms/step - loss: 3.7842 - val_loss: 4.1808\n",
            "Epoch 91/100\n",
            "8/8 [==============================] - 0s 9ms/step - loss: 3.6658 - val_loss: 4.1833\n",
            "Epoch 92/100\n",
            "8/8 [==============================] - 0s 8ms/step - loss: 3.7493 - val_loss: 4.1898\n",
            "Epoch 93/100\n",
            "8/8 [==============================] - 0s 7ms/step - loss: 3.7196 - val_loss: 4.2052\n",
            "Epoch 94/100\n",
            "8/8 [==============================] - 0s 7ms/step - loss: 3.6040 - val_loss: 4.2100\n",
            "Epoch 95/100\n",
            "8/8 [==============================] - 0s 7ms/step - loss: 3.8044 - val_loss: 4.1870\n",
            "Epoch 96/100\n",
            "8/8 [==============================] - 0s 9ms/step - loss: 3.6452 - val_loss: 4.2023\n",
            "Epoch 97/100\n",
            "8/8 [==============================] - 0s 7ms/step - loss: 3.9141 - val_loss: 4.1858\n",
            "Epoch 98/100\n",
            "8/8 [==============================] - 0s 8ms/step - loss: 4.3073 - val_loss: 4.1521\n",
            "Epoch 99/100\n",
            "8/8 [==============================] - 0s 7ms/step - loss: 3.8314 - val_loss: 4.1646\n",
            "Epoch 100/100\n",
            "8/8 [==============================] - 0s 6ms/step - loss: 3.4794 - val_loss: 4.1962\n"
          ],
          "name": "stdout"
        }
      ]
    },
    {
      "cell_type": "code",
      "metadata": {
        "colab": {
          "base_uri": "https://localhost:8080/",
          "height": 283
        },
        "id": "ui_8fpp7W3ZF",
        "outputId": "e0b182b2-8826-4166-b65b-b6ab30b0eb7c"
      },
      "source": [
        "def plot_loss(history):\n",
        "    plt.plot(history.history['loss'], label='loss')\n",
        "    plt.plot(history.history['val_loss'], label='val_loss')\n",
        "    plt.ylim([0, 25])\n",
        "    plt.xlabel('Epoch')\n",
        "    plt.ylabel('Error [MPG]')\n",
        "    plt.legend()\n",
        "    plt.grid(True)\n",
        "plot_loss(history)"
      ],
      "execution_count": null,
      "outputs": [
        {
          "output_type": "display_data",
          "data": {
            "image/png": "[encoded data removed]",
            "text/plain": [
              "<Figure size 432x288 with 1 Axes>"
            ]
          },
          "metadata": {
            "tags": [],
            "needs_background": "light"
          }
        }
      ]
    },
    {
      "cell_type": "code",
      "metadata": {
        "colab": {
          "base_uri": "https://localhost:8080/"
        },
        "id": "Fs70HlOWW3a-",
        "outputId": "ff7f68e2-b5eb-47c8-9af6-45bdd9c7b68c"
      },
      "source": [
        "single_feature_model.evaluate(\n",
        "    test_features[feature],\n",
        "    test_labels, verbose=1)"
      ],
      "execution_count": null,
      "outputs": [
        {
          "output_type": "stream",
          "text": [
            "3/3 [==============================] - 0s 4ms/step - loss: 3.6354\n"
          ],
          "name": "stdout"
        },
        {
          "output_type": "execute_result",
          "data": {
            "text/plain": [
              "3.6353752613067627"
            ]
          },
          "metadata": {
            "tags": []
          },
          "execution_count": 26
        }
      ]
    },
    {
      "cell_type": "code",
      "metadata": {
        "colab": {
          "base_uri": "https://localhost:8080/",
          "height": 497
        },
        "id": "gLYufEOTW3eS",
        "outputId": "dc1e2a97-7bbf-4bf9-ecbb-8c67726b74e4"
      },
      "source": [
        "range_min = np.min(test_features[feature]) - 10\n",
        "range_max = np.max(test_features[feature]) + 10\n",
        "x = tf.linspace(range_min, range_max, 200)\n",
        "y = single_feature_model.predict(x)\n",
        "    \n",
        "plot(feature, x,y)"
      ],
      "execution_count": null,
      "outputs": [
        {
          "output_type": "display_data",
          "data": {
            "image/png": "[encoded data removed]",
            "text/plain": [
              "<Figure size 720x576 with 1 Axes>"
            ]
          },
          "metadata": {
            "tags": [],
            "needs_background": "light"
          }
        }
      ]
    },
    {
      "cell_type": "code",
      "metadata": {
        "id": "sflu4EhnW3hJ"
      },
      "source": [
        "dnn_model = keras.Sequential([\n",
        "    single_feature_normalizer,\n",
        "    layers.Dense(64, activation='relu'),\n",
        "    layers.Dense(64, activation='relu'),\n",
        "    layers.Dense(1)\n",
        "])"
      ],
      "execution_count": null,
      "outputs": []
    },
    {
      "cell_type": "code",
      "metadata": {
        "colab": {
          "base_uri": "https://localhost:8080/"
        },
        "id": "gVEl9ThpW3jn",
        "outputId": "ad097d71-4cfc-4902-a6bf-04e05a5b6b71"
      },
      "source": [
        "dnn_model.compile(loss=loss, \n",
        "                  optimizer=tf.keras.optimizers.Adam(0.001))\n",
        "\n",
        "dnn_model.summary()"
      ],
      "execution_count": null,
      "outputs": [
        {
          "output_type": "stream",
          "text": [
            "Model: \"sequential_1\"\n",
            "_________________________________________________________________\n",
            "Layer (type)                 Output Shape              Param #   \n",
            "=================================================================\n",
            "normalization_1 (Normalizati (None, 1)                 3         \n",
            "_________________________________________________________________\n",
            "dense_1 (Dense)              (None, 64)                128       \n",
            "_________________________________________________________________\n",
            "dense_2 (Dense)              (None, 64)                4160      \n",
            "_________________________________________________________________\n",
            "dense_3 (Dense)              (None, 1)                 65        \n",
            "=================================================================\n",
            "Total params: 4,356\n",
            "Trainable params: 4,353\n",
            "Non-trainable params: 3\n",
            "_________________________________________________________________\n"
          ],
          "name": "stdout"
        }
      ]
    },
    {
      "cell_type": "code",
      "metadata": {
        "colab": {
          "base_uri": "https://localhost:8080/"
        },
        "id": "I2M3OorSW3nO",
        "outputId": "6c609d6b-4363-483e-970d-c123fc833ed8"
      },
      "source": [
        "dnn_model.fit(\n",
        "    train_features[feature], train_labels,\n",
        "    validation_split=0.2,\n",
        "    verbose=1, epochs=100)"
      ],
      "execution_count": null,
      "outputs": [
        {
          "output_type": "stream",
          "text": [
            "Epoch 1/100\n",
            "8/8 [==============================] - 1s 28ms/step - loss: 23.3091 - val_loss: 23.4895\n",
            "Epoch 2/100\n",
            "8/8 [==============================] - 0s 7ms/step - loss: 22.0989 - val_loss: 23.2155\n",
            "Epoch 3/100\n",
            "8/8 [==============================] - 0s 8ms/step - loss: 22.0491 - val_loss: 22.9321\n",
            "Epoch 4/100\n",
            "8/8 [==============================] - 0s 7ms/step - loss: 22.4865 - val_loss: 22.5891\n",
            "Epoch 5/100\n",
            "8/8 [==============================] - 0s 7ms/step - loss: 22.3648 - val_loss: 22.1571\n",
            "Epoch 6/100\n",
            "8/8 [==============================] - 0s 7ms/step - loss: 21.4217 - val_loss: 21.6169\n",
            "Epoch 7/100\n",
            "8/8 [==============================] - 0s 7ms/step - loss: 20.8066 - val_loss: 20.9353\n",
            "Epoch 8/100\n",
            "8/8 [==============================] - 0s 7ms/step - loss: 19.7359 - val_loss: 20.0809\n",
            "Epoch 9/100\n",
            "8/8 [==============================] - 0s 8ms/step - loss: 19.1554 - val_loss: 19.0688\n",
            "Epoch 10/100\n",
            "8/8 [==============================] - 0s 8ms/step - loss: 18.0021 - val_loss: 17.9111\n",
            "Epoch 11/100\n",
            "8/8 [==============================] - 0s 7ms/step - loss: 17.8569 - val_loss: 16.7001\n",
            "Epoch 12/100\n",
            "8/8 [==============================] - 0s 7ms/step - loss: 15.7323 - val_loss: 15.4742\n",
            "Epoch 13/100\n",
            "8/8 [==============================] - 0s 8ms/step - loss: 15.2164 - val_loss: 14.1372\n",
            "Epoch 14/100\n",
            "8/8 [==============================] - 0s 9ms/step - loss: 12.7352 - val_loss: 12.6359\n",
            "Epoch 15/100\n",
            "8/8 [==============================] - 0s 7ms/step - loss: 11.4517 - val_loss: 10.7860\n",
            "Epoch 16/100\n",
            "8/8 [==============================] - 0s 8ms/step - loss: 9.3714 - val_loss: 8.7876\n",
            "Epoch 17/100\n",
            "8/8 [==============================] - 0s 8ms/step - loss: 7.1201 - val_loss: 6.8009\n",
            "Epoch 18/100\n",
            "8/8 [==============================] - 0s 7ms/step - loss: 5.1043 - val_loss: 5.4797\n",
            "Epoch 19/100\n",
            "8/8 [==============================] - 0s 7ms/step - loss: 4.4231 - val_loss: 5.3382\n",
            "Epoch 20/100\n",
            "8/8 [==============================] - 0s 8ms/step - loss: 4.1118 - val_loss: 5.2388\n",
            "Epoch 21/100\n",
            "8/8 [==============================] - 0s 9ms/step - loss: 4.1423 - val_loss: 5.1036\n",
            "Epoch 22/100\n",
            "8/8 [==============================] - 0s 7ms/step - loss: 4.1738 - val_loss: 4.9199\n",
            "Epoch 23/100\n",
            "8/8 [==============================] - 0s 9ms/step - loss: 4.0948 - val_loss: 4.8560\n",
            "Epoch 24/100\n",
            "8/8 [==============================] - 0s 7ms/step - loss: 4.1765 - val_loss: 4.8095\n",
            "Epoch 25/100\n",
            "8/8 [==============================] - 0s 7ms/step - loss: 4.1470 - val_loss: 4.7734\n",
            "Epoch 26/100\n",
            "8/8 [==============================] - 0s 8ms/step - loss: 3.6416 - val_loss: 4.7163\n",
            "Epoch 27/100\n",
            "8/8 [==============================] - 0s 7ms/step - loss: 3.7485 - val_loss: 4.6475\n",
            "Epoch 28/100\n",
            "8/8 [==============================] - 0s 7ms/step - loss: 3.9374 - val_loss: 4.5915\n",
            "Epoch 29/100\n",
            "8/8 [==============================] - 0s 7ms/step - loss: 3.6112 - val_loss: 4.5518\n",
            "Epoch 30/100\n",
            "8/8 [==============================] - 0s 8ms/step - loss: 3.4235 - val_loss: 4.5055\n",
            "Epoch 31/100\n",
            "8/8 [==============================] - 0s 7ms/step - loss: 3.4152 - val_loss: 4.4313\n",
            "Epoch 32/100\n",
            "8/8 [==============================] - 0s 7ms/step - loss: 3.6021 - val_loss: 4.3836\n",
            "Epoch 33/100\n",
            "8/8 [==============================] - 0s 7ms/step - loss: 3.6165 - val_loss: 4.3363\n",
            "Epoch 34/100\n",
            "8/8 [==============================] - 0s 7ms/step - loss: 3.7478 - val_loss: 4.2882\n",
            "Epoch 35/100\n",
            "8/8 [==============================] - 0s 6ms/step - loss: 3.4324 - val_loss: 4.2538\n",
            "Epoch 36/100\n",
            "8/8 [==============================] - 0s 7ms/step - loss: 3.6748 - val_loss: 4.2241\n",
            "Epoch 37/100\n",
            "8/8 [==============================] - 0s 8ms/step - loss: 3.6158 - val_loss: 4.1790\n",
            "Epoch 38/100\n",
            "8/8 [==============================] - 0s 7ms/step - loss: 3.5441 - val_loss: 4.1555\n",
            "Epoch 39/100\n",
            "8/8 [==============================] - 0s 7ms/step - loss: 3.3999 - val_loss: 4.1449\n",
            "Epoch 40/100\n",
            "8/8 [==============================] - 0s 7ms/step - loss: 3.4938 - val_loss: 4.1232\n",
            "Epoch 41/100\n",
            "8/8 [==============================] - 0s 8ms/step - loss: 3.5063 - val_loss: 4.0940\n",
            "Epoch 42/100\n",
            "8/8 [==============================] - 0s 7ms/step - loss: 3.4646 - val_loss: 4.0851\n",
            "Epoch 43/100\n",
            "8/8 [==============================] - 0s 8ms/step - loss: 3.1319 - val_loss: 4.0695\n",
            "Epoch 44/100\n",
            "8/8 [==============================] - 0s 7ms/step - loss: 3.4500 - val_loss: 4.0486\n",
            "Epoch 45/100\n",
            "8/8 [==============================] - 0s 8ms/step - loss: 3.3154 - val_loss: 4.0356\n",
            "Epoch 46/100\n",
            "8/8 [==============================] - 0s 9ms/step - loss: 3.5090 - val_loss: 4.0171\n",
            "Epoch 47/100\n",
            "8/8 [==============================] - 0s 8ms/step - loss: 3.5580 - val_loss: 3.9949\n",
            "Epoch 48/100\n",
            "8/8 [==============================] - 0s 8ms/step - loss: 3.4621 - val_loss: 3.9916\n",
            "Epoch 49/100\n",
            "8/8 [==============================] - 0s 7ms/step - loss: 3.4366 - val_loss: 3.9727\n",
            "Epoch 50/100\n",
            "8/8 [==============================] - 0s 7ms/step - loss: 3.3470 - val_loss: 3.9586\n",
            "Epoch 51/100\n",
            "8/8 [==============================] - 0s 7ms/step - loss: 3.2941 - val_loss: 3.9511\n",
            "Epoch 52/100\n",
            "8/8 [==============================] - 0s 8ms/step - loss: 3.2565 - val_loss: 3.9421\n",
            "Epoch 53/100\n",
            "8/8 [==============================] - 0s 8ms/step - loss: 3.2912 - val_loss: 3.9208\n",
            "Epoch 54/100\n",
            "8/8 [==============================] - 0s 8ms/step - loss: 3.5605 - val_loss: 3.9152\n",
            "Epoch 55/100\n",
            "8/8 [==============================] - 0s 7ms/step - loss: 3.4192 - val_loss: 3.8957\n",
            "Epoch 56/100\n",
            "8/8 [==============================] - 0s 8ms/step - loss: 3.0468 - val_loss: 3.8904\n",
            "Epoch 57/100\n",
            "8/8 [==============================] - 0s 7ms/step - loss: 3.4609 - val_loss: 3.8865\n",
            "Epoch 58/100\n",
            "8/8 [==============================] - 0s 8ms/step - loss: 3.2404 - val_loss: 3.8691\n",
            "Epoch 59/100\n",
            "8/8 [==============================] - 0s 7ms/step - loss: 3.3576 - val_loss: 3.8618\n",
            "Epoch 60/100\n",
            "8/8 [==============================] - 0s 8ms/step - loss: 3.3668 - val_loss: 3.8525\n",
            "Epoch 61/100\n",
            "8/8 [==============================] - 0s 8ms/step - loss: 3.2130 - val_loss: 3.8466\n",
            "Epoch 62/100\n",
            "8/8 [==============================] - 0s 8ms/step - loss: 3.2700 - val_loss: 3.8354\n",
            "Epoch 63/100\n",
            "8/8 [==============================] - 0s 9ms/step - loss: 3.3193 - val_loss: 3.8284\n",
            "Epoch 64/100\n",
            "8/8 [==============================] - 0s 8ms/step - loss: 3.4154 - val_loss: 3.8206\n",
            "Epoch 65/100\n",
            "8/8 [==============================] - 0s 8ms/step - loss: 3.1187 - val_loss: 3.8134\n",
            "Epoch 66/100\n",
            "8/8 [==============================] - 0s 7ms/step - loss: 3.3192 - val_loss: 3.8175\n",
            "Epoch 67/100\n",
            "8/8 [==============================] - 0s 7ms/step - loss: 3.2544 - val_loss: 3.8029\n",
            "Epoch 68/100\n",
            "8/8 [==============================] - 0s 7ms/step - loss: 3.2506 - val_loss: 3.8017\n",
            "Epoch 69/100\n",
            "8/8 [==============================] - 0s 7ms/step - loss: 3.2316 - val_loss: 3.7936\n",
            "Epoch 70/100\n",
            "8/8 [==============================] - 0s 7ms/step - loss: 3.3646 - val_loss: 3.8011\n",
            "Epoch 71/100\n",
            "8/8 [==============================] - 0s 8ms/step - loss: 3.2971 - val_loss: 3.7978\n",
            "Epoch 72/100\n",
            "8/8 [==============================] - 0s 7ms/step - loss: 3.3007 - val_loss: 3.7923\n",
            "Epoch 73/100\n",
            "8/8 [==============================] - 0s 8ms/step - loss: 3.5103 - val_loss: 3.7970\n",
            "Epoch 74/100\n",
            "8/8 [==============================] - 0s 7ms/step - loss: 3.4304 - val_loss: 3.7954\n",
            "Epoch 75/100\n",
            "8/8 [==============================] - 0s 8ms/step - loss: 3.4321 - val_loss: 3.7880\n",
            "Epoch 76/100\n",
            "8/8 [==============================] - 0s 8ms/step - loss: 3.3424 - val_loss: 3.8127\n",
            "Epoch 77/100\n",
            "8/8 [==============================] - 0s 8ms/step - loss: 3.3398 - val_loss: 3.7897\n",
            "Epoch 78/100\n",
            "8/8 [==============================] - 0s 9ms/step - loss: 3.3027 - val_loss: 3.7854\n",
            "Epoch 79/100\n",
            "8/8 [==============================] - 0s 7ms/step - loss: 3.3196 - val_loss: 3.7951\n",
            "Epoch 80/100\n",
            "8/8 [==============================] - 0s 7ms/step - loss: 3.3745 - val_loss: 3.8040\n",
            "Epoch 81/100\n",
            "8/8 [==============================] - 0s 8ms/step - loss: 3.2496 - val_loss: 3.7784\n",
            "Epoch 82/100\n",
            "8/8 [==============================] - 0s 8ms/step - loss: 2.9735 - val_loss: 3.7750\n",
            "Epoch 83/100\n",
            "8/8 [==============================] - 0s 7ms/step - loss: 3.2650 - val_loss: 3.8035\n",
            "Epoch 84/100\n",
            "8/8 [==============================] - 0s 7ms/step - loss: 3.0971 - val_loss: 3.7941\n",
            "Epoch 85/100\n",
            "8/8 [==============================] - 0s 7ms/step - loss: 3.3745 - val_loss: 3.7836\n",
            "Epoch 86/100\n",
            "8/8 [==============================] - 0s 9ms/step - loss: 3.3113 - val_loss: 3.7891\n",
            "Epoch 87/100\n",
            "8/8 [==============================] - 0s 8ms/step - loss: 3.4211 - val_loss: 3.8076\n",
            "Epoch 88/100\n",
            "8/8 [==============================] - 0s 8ms/step - loss: 3.1629 - val_loss: 3.7877\n",
            "Epoch 89/100\n",
            "8/8 [==============================] - 0s 7ms/step - loss: 3.3769 - val_loss: 3.7836\n",
            "Epoch 90/100\n",
            "8/8 [==============================] - 0s 8ms/step - loss: 3.3546 - val_loss: 3.7963\n",
            "Epoch 91/100\n",
            "8/8 [==============================] - 0s 7ms/step - loss: 3.3865 - val_loss: 3.7827\n",
            "Epoch 92/100\n",
            "8/8 [==============================] - 0s 9ms/step - loss: 3.4722 - val_loss: 3.7644\n",
            "Epoch 93/100\n",
            "8/8 [==============================] - 0s 8ms/step - loss: 3.1244 - val_loss: 3.7867\n",
            "Epoch 94/100\n",
            "8/8 [==============================] - 0s 8ms/step - loss: 3.3671 - val_loss: 3.7910\n",
            "Epoch 95/100\n",
            "8/8 [==============================] - 0s 9ms/step - loss: 3.2658 - val_loss: 3.7880\n",
            "Epoch 96/100\n",
            "8/8 [==============================] - 0s 8ms/step - loss: 3.1344 - val_loss: 3.7770\n",
            "Epoch 97/100\n",
            "8/8 [==============================] - 0s 8ms/step - loss: 3.1998 - val_loss: 3.7581\n",
            "Epoch 98/100\n",
            "8/8 [==============================] - 0s 7ms/step - loss: 3.3472 - val_loss: 3.7783\n",
            "Epoch 99/100\n",
            "8/8 [==============================] - 0s 7ms/step - loss: 3.3735 - val_loss: 3.7941\n",
            "Epoch 100/100\n",
            "8/8 [==============================] - 0s 8ms/step - loss: 3.3610 - val_loss: 3.7783\n"
          ],
          "name": "stdout"
        },
        {
          "output_type": "execute_result",
          "data": {
            "text/plain": [
              "<tensorflow.python.keras.callbacks.History at 0x7fe760d26090>"
            ]
          },
          "metadata": {
            "tags": []
          },
          "execution_count": 30
        }
      ]
    },
    {
      "cell_type": "code",
      "metadata": {
        "colab": {
          "base_uri": "https://localhost:8080/"
        },
        "id": "UmQVVbTmXPPl",
        "outputId": "a898361a-49e9-40a5-cdbe-5323b3778f2a"
      },
      "source": [
        "dnn_model.evaluate(test_features[feature], test_labels, verbose=1)"
      ],
      "execution_count": null,
      "outputs": [
        {
          "output_type": "stream",
          "text": [
            "3/3 [==============================] - 0s 4ms/step - loss: 2.9320\n"
          ],
          "name": "stdout"
        },
        {
          "output_type": "execute_result",
          "data": {
            "text/plain": [
              "2.9320061206817627"
            ]
          },
          "metadata": {
            "tags": []
          },
          "execution_count": 31
        }
      ]
    },
    {
      "cell_type": "code",
      "metadata": {
        "colab": {
          "base_uri": "https://localhost:8080/",
          "height": 497
        },
        "id": "y7O88c75XPWz",
        "outputId": "eb52c2ae-8910-42d4-ba66-d193b9598532"
      },
      "source": [
        "x = tf.linspace(range_min, range_max, 200)\n",
        "y = dnn_model.predict(x)\n",
        "\n",
        "plot(feature, x,y)"
      ],
      "execution_count": null,
      "outputs": [
        {
          "output_type": "display_data",
          "data": {
            "image/png": "[encoded data removed]",
            "text/plain": [
              "<Figure size 720x576 with 1 Axes>"
            ]
          },
          "metadata": {
            "tags": [],
            "needs_background": "light"
          }
        }
      ]
    },
    {
      "cell_type": "code",
      "metadata": {
        "id": "MB_CwKHMXPfE"
      },
      "source": [
        "linear_model = tf.keras.Sequential([\n",
        "    normalizer,\n",
        "    layers.Dense(units=1)\n",
        "])\n",
        "\n",
        "linear_model.compile(\n",
        "    optimizer=tf.optimizers.Adam(learning_rate=0.1),\n",
        "    loss=loss)"
      ],
      "execution_count": null,
      "outputs": []
    },
    {
      "cell_type": "code",
      "metadata": {
        "colab": {
          "base_uri": "https://localhost:8080/"
        },
        "id": "j0Lv3FvAXPtU",
        "outputId": "5b3b2f9d-bca4-454b-f89a-96bde0061308"
      },
      "source": [
        "linear_model.fit(\n",
        "    train_features, train_labels, \n",
        "    epochs=100,\n",
        "    verbose=1,\n",
        "    # Calculate validation results on 20% of the training data\n",
        "    validation_split = 0.2)"
      ],
      "execution_count": null,
      "outputs": [
        {
          "output_type": "stream",
          "text": [
            "Epoch 1/100\n",
            "8/8 [==============================] - 0s 25ms/step - loss: 22.9408 - val_loss: 22.8748\n",
            "Epoch 2/100\n",
            "8/8 [==============================] - 0s 8ms/step - loss: 21.5130 - val_loss: 22.1924\n",
            "Epoch 3/100\n",
            "8/8 [==============================] - 0s 6ms/step - loss: 20.8796 - val_loss: 21.4820\n",
            "Epoch 4/100\n",
            "8/8 [==============================] - 0s 7ms/step - loss: 20.3414 - val_loss: 20.7512\n",
            "Epoch 5/100\n",
            "8/8 [==============================] - 0s 7ms/step - loss: 19.8292 - val_loss: 20.0129\n",
            "Epoch 6/100\n",
            "8/8 [==============================] - 0s 7ms/step - loss: 18.4369 - val_loss: 19.2971\n",
            "Epoch 7/100\n",
            "8/8 [==============================] - 0s 8ms/step - loss: 17.8596 - val_loss: 18.5847\n",
            "Epoch 8/100\n",
            "8/8 [==============================] - 0s 8ms/step - loss: 18.0403 - val_loss: 17.8677\n",
            "Epoch 9/100\n",
            "8/8 [==============================] - 0s 7ms/step - loss: 16.4388 - val_loss: 17.1371\n",
            "Epoch 10/100\n",
            "8/8 [==============================] - 0s 9ms/step - loss: 16.1874 - val_loss: 16.3970\n",
            "Epoch 11/100\n",
            "8/8 [==============================] - 0s 7ms/step - loss: 14.9706 - val_loss: 15.6951\n",
            "Epoch 12/100\n",
            "8/8 [==============================] - 0s 8ms/step - loss: 14.2548 - val_loss: 14.9597\n",
            "Epoch 13/100\n",
            "8/8 [==============================] - 0s 7ms/step - loss: 14.3718 - val_loss: 14.2255\n",
            "Epoch 14/100\n",
            "8/8 [==============================] - 0s 8ms/step - loss: 12.6599 - val_loss: 13.5339\n",
            "Epoch 15/100\n",
            "8/8 [==============================] - 0s 7ms/step - loss: 11.1800 - val_loss: 12.8350\n",
            "Epoch 16/100\n",
            "8/8 [==============================] - 0s 11ms/step - loss: 10.6007 - val_loss: 12.0700\n",
            "Epoch 17/100\n",
            "8/8 [==============================] - 0s 7ms/step - loss: 10.1468 - val_loss: 11.2949\n",
            "Epoch 18/100\n",
            "8/8 [==============================] - 0s 7ms/step - loss: 9.1706 - val_loss: 10.6235\n",
            "Epoch 19/100\n",
            "8/8 [==============================] - 0s 7ms/step - loss: 8.7421 - val_loss: 9.8623\n",
            "Epoch 20/100\n",
            "8/8 [==============================] - 0s 7ms/step - loss: 7.7566 - val_loss: 9.1126\n",
            "Epoch 21/100\n",
            "8/8 [==============================] - 0s 8ms/step - loss: 7.0864 - val_loss: 8.4384\n",
            "Epoch 22/100\n",
            "8/8 [==============================] - 0s 7ms/step - loss: 6.5146 - val_loss: 7.7616\n",
            "Epoch 23/100\n",
            "8/8 [==============================] - 0s 8ms/step - loss: 5.8278 - val_loss: 7.1391\n",
            "Epoch 24/100\n",
            "8/8 [==============================] - 0s 8ms/step - loss: 5.0179 - val_loss: 6.6557\n",
            "Epoch 25/100\n",
            "8/8 [==============================] - 0s 7ms/step - loss: 4.3783 - val_loss: 6.0004\n",
            "Epoch 26/100\n",
            "8/8 [==============================] - 0s 8ms/step - loss: 4.2218 - val_loss: 5.1628\n",
            "Epoch 27/100\n",
            "8/8 [==============================] - 0s 8ms/step - loss: 3.7788 - val_loss: 4.4964\n",
            "Epoch 28/100\n",
            "8/8 [==============================] - 0s 7ms/step - loss: 3.5928 - val_loss: 3.8066\n",
            "Epoch 29/100\n",
            "8/8 [==============================] - 0s 7ms/step - loss: 3.0515 - val_loss: 3.5343\n",
            "Epoch 30/100\n",
            "8/8 [==============================] - 0s 8ms/step - loss: 3.0030 - val_loss: 3.1011\n",
            "Epoch 31/100\n",
            "8/8 [==============================] - 0s 7ms/step - loss: 2.8930 - val_loss: 2.8713\n",
            "Epoch 32/100\n",
            "8/8 [==============================] - 0s 7ms/step - loss: 2.6210 - val_loss: 2.8258\n",
            "Epoch 33/100\n",
            "8/8 [==============================] - 0s 7ms/step - loss: 2.7685 - val_loss: 2.7822\n",
            "Epoch 34/100\n",
            "8/8 [==============================] - 0s 7ms/step - loss: 2.5127 - val_loss: 2.7225\n",
            "Epoch 35/100\n",
            "8/8 [==============================] - 0s 7ms/step - loss: 2.6672 - val_loss: 2.6858\n",
            "Epoch 36/100\n",
            "8/8 [==============================] - 0s 7ms/step - loss: 2.5641 - val_loss: 2.5916\n",
            "Epoch 37/100\n",
            "8/8 [==============================] - 0s 7ms/step - loss: 2.4987 - val_loss: 2.6212\n",
            "Epoch 38/100\n",
            "8/8 [==============================] - 0s 8ms/step - loss: 2.5516 - val_loss: 2.5626\n",
            "Epoch 39/100\n",
            "8/8 [==============================] - 0s 7ms/step - loss: 2.6540 - val_loss: 2.5547\n",
            "Epoch 40/100\n",
            "8/8 [==============================] - 0s 7ms/step - loss: 2.5705 - val_loss: 2.5253\n",
            "Epoch 41/100\n",
            "8/8 [==============================] - 0s 7ms/step - loss: 2.5218 - val_loss: 2.5046\n",
            "Epoch 42/100\n",
            "8/8 [==============================] - 0s 7ms/step - loss: 2.4080 - val_loss: 2.5512\n",
            "Epoch 43/100\n",
            "8/8 [==============================] - 0s 7ms/step - loss: 2.4982 - val_loss: 2.4969\n",
            "Epoch 44/100\n",
            "8/8 [==============================] - 0s 6ms/step - loss: 2.6474 - val_loss: 2.5106\n",
            "Epoch 45/100\n",
            "8/8 [==============================] - 0s 7ms/step - loss: 2.3505 - val_loss: 2.4922\n",
            "Epoch 46/100\n",
            "8/8 [==============================] - 0s 7ms/step - loss: 2.4458 - val_loss: 2.5624\n",
            "Epoch 47/100\n",
            "8/8 [==============================] - 0s 7ms/step - loss: 2.5730 - val_loss: 2.4977\n",
            "Epoch 48/100\n",
            "8/8 [==============================] - 0s 7ms/step - loss: 2.4068 - val_loss: 2.4858\n",
            "Epoch 49/100\n",
            "8/8 [==============================] - 0s 7ms/step - loss: 2.5032 - val_loss: 2.4824\n",
            "Epoch 50/100\n",
            "8/8 [==============================] - 0s 8ms/step - loss: 2.4871 - val_loss: 2.4834\n",
            "Epoch 51/100\n",
            "8/8 [==============================] - 0s 7ms/step - loss: 2.3964 - val_loss: 2.5050\n",
            "Epoch 52/100\n",
            "8/8 [==============================] - 0s 7ms/step - loss: 2.4331 - val_loss: 2.4754\n",
            "Epoch 53/100\n",
            "8/8 [==============================] - 0s 7ms/step - loss: 2.5470 - val_loss: 2.4945\n",
            "Epoch 54/100\n",
            "8/8 [==============================] - 0s 7ms/step - loss: 2.6806 - val_loss: 2.4725\n",
            "Epoch 55/100\n",
            "8/8 [==============================] - 0s 7ms/step - loss: 2.7146 - val_loss: 2.4924\n",
            "Epoch 56/100\n",
            "8/8 [==============================] - 0s 7ms/step - loss: 2.4502 - val_loss: 2.4889\n",
            "Epoch 57/100\n",
            "8/8 [==============================] - 0s 9ms/step - loss: 2.5504 - val_loss: 2.4886\n",
            "Epoch 58/100\n",
            "8/8 [==============================] - 0s 8ms/step - loss: 2.5732 - val_loss: 2.4891\n",
            "Epoch 59/100\n",
            "8/8 [==============================] - 0s 8ms/step - loss: 2.4731 - val_loss: 2.4707\n",
            "Epoch 60/100\n",
            "8/8 [==============================] - 0s 7ms/step - loss: 2.3760 - val_loss: 2.4688\n",
            "Epoch 61/100\n",
            "8/8 [==============================] - 0s 7ms/step - loss: 2.5562 - val_loss: 2.4703\n",
            "Epoch 62/100\n",
            "8/8 [==============================] - 0s 7ms/step - loss: 2.5803 - val_loss: 2.4631\n",
            "Epoch 63/100\n",
            "8/8 [==============================] - 0s 7ms/step - loss: 2.3321 - val_loss: 2.4810\n",
            "Epoch 64/100\n",
            "8/8 [==============================] - 0s 7ms/step - loss: 2.2824 - val_loss: 2.4674\n",
            "Epoch 65/100\n",
            "8/8 [==============================] - 0s 7ms/step - loss: 2.5041 - val_loss: 2.5099\n",
            "Epoch 66/100\n",
            "8/8 [==============================] - 0s 9ms/step - loss: 2.4869 - val_loss: 2.4891\n",
            "Epoch 67/100\n",
            "8/8 [==============================] - 0s 7ms/step - loss: 2.5127 - val_loss: 2.4962\n",
            "Epoch 68/100\n",
            "8/8 [==============================] - 0s 7ms/step - loss: 2.5195 - val_loss: 2.4968\n",
            "Epoch 69/100\n",
            "8/8 [==============================] - 0s 7ms/step - loss: 2.6360 - val_loss: 2.4758\n",
            "Epoch 70/100\n",
            "8/8 [==============================] - 0s 7ms/step - loss: 2.5026 - val_loss: 2.4843\n",
            "Epoch 71/100\n",
            "8/8 [==============================] - 0s 7ms/step - loss: 2.5453 - val_loss: 2.4838\n",
            "Epoch 72/100\n",
            "8/8 [==============================] - 0s 7ms/step - loss: 2.2620 - val_loss: 2.4888\n",
            "Epoch 73/100\n",
            "8/8 [==============================] - 0s 7ms/step - loss: 2.5306 - val_loss: 2.4647\n",
            "Epoch 74/100\n",
            "8/8 [==============================] - 0s 8ms/step - loss: 2.6181 - val_loss: 2.4547\n",
            "Epoch 75/100\n",
            "8/8 [==============================] - 0s 7ms/step - loss: 2.6382 - val_loss: 2.4586\n",
            "Epoch 76/100\n",
            "8/8 [==============================] - 0s 7ms/step - loss: 2.5515 - val_loss: 2.4676\n",
            "Epoch 77/100\n",
            "8/8 [==============================] - 0s 8ms/step - loss: 2.6502 - val_loss: 2.4702\n",
            "Epoch 78/100\n",
            "8/8 [==============================] - 0s 8ms/step - loss: 2.5500 - val_loss: 2.4844\n",
            "Epoch 79/100\n",
            "8/8 [==============================] - 0s 8ms/step - loss: 2.6014 - val_loss: 2.4728\n",
            "Epoch 80/100\n",
            "8/8 [==============================] - 0s 8ms/step - loss: 2.6018 - val_loss: 2.5634\n",
            "Epoch 81/100\n",
            "8/8 [==============================] - 0s 7ms/step - loss: 2.5070 - val_loss: 2.4720\n",
            "Epoch 82/100\n",
            "8/8 [==============================] - 0s 7ms/step - loss: 2.4167 - val_loss: 2.5466\n",
            "Epoch 83/100\n",
            "8/8 [==============================] - 0s 6ms/step - loss: 2.4460 - val_loss: 2.4842\n",
            "Epoch 84/100\n",
            "8/8 [==============================] - 0s 6ms/step - loss: 2.3608 - val_loss: 2.4897\n",
            "Epoch 85/100\n",
            "8/8 [==============================] - 0s 7ms/step - loss: 2.4726 - val_loss: 2.4602\n",
            "Epoch 86/100\n",
            "8/8 [==============================] - 0s 7ms/step - loss: 2.4637 - val_loss: 2.4927\n",
            "Epoch 87/100\n",
            "8/8 [==============================] - 0s 7ms/step - loss: 2.4261 - val_loss: 2.4688\n",
            "Epoch 88/100\n",
            "8/8 [==============================] - 0s 8ms/step - loss: 2.5228 - val_loss: 2.4558\n",
            "Epoch 89/100\n",
            "8/8 [==============================] - 0s 8ms/step - loss: 2.6170 - val_loss: 2.4976\n",
            "Epoch 90/100\n",
            "8/8 [==============================] - 0s 9ms/step - loss: 2.4194 - val_loss: 2.4724\n",
            "Epoch 91/100\n",
            "8/8 [==============================] - 0s 7ms/step - loss: 2.5334 - val_loss: 2.4623\n",
            "Epoch 92/100\n",
            "8/8 [==============================] - 0s 7ms/step - loss: 2.3907 - val_loss: 2.4881\n",
            "Epoch 93/100\n",
            "8/8 [==============================] - 0s 7ms/step - loss: 2.4349 - val_loss: 2.4560\n",
            "Epoch 94/100\n",
            "8/8 [==============================] - 0s 7ms/step - loss: 2.4000 - val_loss: 2.4590\n",
            "Epoch 95/100\n",
            "8/8 [==============================] - 0s 7ms/step - loss: 2.5459 - val_loss: 2.4990\n",
            "Epoch 96/100\n",
            "8/8 [==============================] - 0s 7ms/step - loss: 2.6184 - val_loss: 2.4641\n",
            "Epoch 97/100\n",
            "8/8 [==============================] - 0s 6ms/step - loss: 2.4968 - val_loss: 2.5215\n",
            "Epoch 98/100\n",
            "8/8 [==============================] - 0s 7ms/step - loss: 2.4716 - val_loss: 2.4578\n",
            "Epoch 99/100\n",
            "8/8 [==============================] - 0s 8ms/step - loss: 2.6354 - val_loss: 2.5228\n",
            "Epoch 100/100\n",
            "8/8 [==============================] - 0s 7ms/step - loss: 2.3960 - val_loss: 2.4559\n"
          ],
          "name": "stdout"
        },
        {
          "output_type": "execute_result",
          "data": {
            "text/plain": [
              "<tensorflow.python.keras.callbacks.History at 0x7fe75f23fbd0>"
            ]
          },
          "metadata": {
            "tags": []
          },
          "execution_count": 34
        }
      ]
    },
    {
      "cell_type": "code",
      "metadata": {
        "colab": {
          "base_uri": "https://localhost:8080/"
        },
        "id": "vVkX3M0cXjV6",
        "outputId": "420d4e46-db00-42e1-9854-d377ff52410d"
      },
      "source": [
        "linear_model.evaluate(\n",
        "    test_features, test_labels, verbose=1)"
      ],
      "execution_count": null,
      "outputs": [
        {
          "output_type": "stream",
          "text": [
            "3/3 [==============================] - 0s 4ms/step - loss: 2.4441\n"
          ],
          "name": "stdout"
        },
        {
          "output_type": "execute_result",
          "data": {
            "text/plain": [
              "2.4440793991088867"
            ]
          },
          "metadata": {
            "tags": []
          },
          "execution_count": 35
        }
      ]
    }
  ]
}